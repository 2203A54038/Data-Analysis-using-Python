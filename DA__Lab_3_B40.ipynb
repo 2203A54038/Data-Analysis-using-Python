{
  "nbformat": 4,
  "nbformat_minor": 0,
  "metadata": {
    "colab": {
      "provenance": []
    },
    "kernelspec": {
      "name": "python3",
      "display_name": "Python 3"
    },
    "language_info": {
      "name": "python"
    }
  },
  "cells": [
    {
      "cell_type": "code",
      "execution_count": 9,
      "metadata": {
        "colab": {
          "base_uri": "https://localhost:8080/"
        },
        "id": "1Ie_9J6x9SfO",
        "outputId": "45a94bd8-d25b-41d4-b068-c111106a41c9"
      },
      "outputs": [
        {
          "output_type": "stream",
          "name": "stdout",
          "text": [
            "<class 'pandas.core.frame.DataFrame'>\n",
            "RangeIndex: 366 entries, 0 to 365\n",
            "Data columns (total 35 columns):\n",
            " #   Column                               Non-Null Count  Dtype \n",
            "---  ------                               --------------  ----- \n",
            " 0   erythema                             366 non-null    int64 \n",
            " 1   scaling                              366 non-null    int64 \n",
            " 2   definite_borders                     366 non-null    int64 \n",
            " 3   itching                              366 non-null    int64 \n",
            " 4   koebner_phenomenon                   366 non-null    int64 \n",
            " 5   polygonal_papules                    366 non-null    int64 \n",
            " 6   follicular_papules                   366 non-null    int64 \n",
            " 7   oral_mucosal_involvement             366 non-null    int64 \n",
            " 8   knee_and_elbow_involvement           366 non-null    int64 \n",
            " 9   scalp_involvement                    366 non-null    int64 \n",
            " 10  family_history                       366 non-null    int64 \n",
            " 11  melanin_incontinence                 366 non-null    int64 \n",
            " 12  eosinophils_infiltrate               366 non-null    int64 \n",
            " 13  PNL_infiltrate                       366 non-null    int64 \n",
            " 14  fibrosis_papillary_dermis            366 non-null    int64 \n",
            " 15  exocytosis                           366 non-null    int64 \n",
            " 16  acanthosis                           366 non-null    int64 \n",
            " 17  hyperkeratosis                       366 non-null    int64 \n",
            " 18  parakeratosis                        366 non-null    int64 \n",
            " 19  clubbing_rete_ridges                 366 non-null    int64 \n",
            " 20  elongation_rete_ridges               366 non-null    int64 \n",
            " 21  thinning_suprapapillary_epidermis    366 non-null    int64 \n",
            " 22  spongiform_pustule                   366 non-null    int64 \n",
            " 23  munro_microabcess                    366 non-null    int64 \n",
            " 24  focal_hypergranulosis                366 non-null    int64 \n",
            " 25  disappearance_granular_layer         366 non-null    int64 \n",
            " 26  vacuolisation_damage_basal_layer     366 non-null    int64 \n",
            " 27  spongiosis                           366 non-null    int64 \n",
            " 28  saw_tooth_appearance_retes           366 non-null    int64 \n",
            " 29  follicular_horn_plug                 366 non-null    int64 \n",
            " 30  perifollicular_parakeratosis         366 non-null    int64 \n",
            " 31  inflammatory_mononuclear_infiltrate  366 non-null    int64 \n",
            " 32  band_like_infiltrate                 366 non-null    int64 \n",
            " 33  age                                  366 non-null    object\n",
            " 34  class                                366 non-null    int64 \n",
            "dtypes: int64(34), object(1)\n",
            "memory usage: 100.2+ KB\n"
          ]
        },
        {
          "output_type": "execute_result",
          "data": {
            "text/plain": [
              "(None,\n",
              "    erythema  scaling  definite_borders  itching  koebner_phenomenon  \\\n",
              " 0         2        2                 0        3                   0   \n",
              " 1         3        3                 3        2                   1   \n",
              " 2         2        1                 2        3                   1   \n",
              " 3         2        2                 2        0                   0   \n",
              " 4         2        3                 2        2                   2   \n",
              " \n",
              "    polygonal_papules  follicular_papules  oral_mucosal_involvement  \\\n",
              " 0                  0                   0                         0   \n",
              " 1                  0                   0                         0   \n",
              " 2                  3                   0                         3   \n",
              " 3                  0                   0                         0   \n",
              " 4                  2                   0                         2   \n",
              " \n",
              "    knee_and_elbow_involvement  scalp_involvement  ...  \\\n",
              " 0                           1                  0  ...   \n",
              " 1                           1                  1  ...   \n",
              " 2                           0                  0  ...   \n",
              " 3                           3                  2  ...   \n",
              " 4                           0                  0  ...   \n",
              " \n",
              "    disappearance_granular_layer  vacuolisation_damage_basal_layer  spongiosis  \\\n",
              " 0                             0                                 0           3   \n",
              " 1                             0                                 0           0   \n",
              " 2                             0                                 2           3   \n",
              " 3                             3                                 0           0   \n",
              " 4                             2                                 3           2   \n",
              " \n",
              "    saw_tooth_appearance_retes  follicular_horn_plug  \\\n",
              " 0                           0                     0   \n",
              " 1                           0                     0   \n",
              " 2                           2                     0   \n",
              " 3                           0                     0   \n",
              " 4                           3                     0   \n",
              " \n",
              "    perifollicular_parakeratosis  inflammatory_mononuclear_infiltrate  \\\n",
              " 0                             0                                    1   \n",
              " 1                             0                                    1   \n",
              " 2                             0                                    2   \n",
              " 3                             0                                    3   \n",
              " 4                             0                                    2   \n",
              " \n",
              "    band_like_infiltrate  age  class  \n",
              " 0                     0   55      2  \n",
              " 1                     0    8      1  \n",
              " 2                     3   26      3  \n",
              " 3                     0   40      1  \n",
              " 4                     3   45      3  \n",
              " \n",
              " [5 rows x 35 columns])"
            ]
          },
          "metadata": {},
          "execution_count": 9
        }
      ],
      "source": [
        "import pandas as pd\n",
        "file_path = \"/content/dermatology_database_1.csv\"\n",
        "df = pd.read_csv(file_path)\n",
        "df.info(), df.head()\n"
      ]
    },
    {
      "cell_type": "code",
      "source": [
        "df[\"age\"] = pd.to_numeric(df[\"age\"], errors=\"coerce\")\n",
        "df[\"age\"].fillna(df[\"age\"].median(), inplace=True)\n",
        "X = df.drop(columns=[\"class\"])\n",
        "y = df[\"class\"]\n",
        "from sklearn.model_selection import train_test_split\n",
        "\n",
        "X_train, X_test, y_train, y_test = train_test_split(X, y, test_size=0.2, random_state=42, stratify=y)\n",
        "from sklearn.svm import SVC\n",
        "from sklearn.ensemble import RandomForestClassifier\n",
        "from sklearn.metrics import accuracy_score\n",
        "svm_model = SVC(kernel=\"linear\", random_state=42)\n",
        "svm_model.fit(X_train, y_train)\n",
        "svm_preds = svm_model.predict(X_test)\n",
        "svm_acc = accuracy_score(y_test, svm_preds)\n",
        "rf_model = RandomForestClassifier(n_estimators=100, random_state=42)\n",
        "rf_model.fit(X_train, y_train)\n",
        "rf_preds = rf_model.predict(X_test)\n",
        "rf_acc = accuracy_score(y_test, rf_preds)\n",
        "\n",
        "svm_acc, rf_acc\n"
      ],
      "metadata": {
        "colab": {
          "base_uri": "https://localhost:8080/"
        },
        "id": "pxhfbtnf9fs9",
        "outputId": "e8083fd5-1426-4979-a3b8-5a6eb70fc16b"
      },
      "execution_count": 10,
      "outputs": [
        {
          "output_type": "stream",
          "name": "stderr",
          "text": [
            "<ipython-input-10-d44a9fc9603d>:2: FutureWarning: A value is trying to be set on a copy of a DataFrame or Series through chained assignment using an inplace method.\n",
            "The behavior will change in pandas 3.0. This inplace method will never work because the intermediate object on which we are setting values always behaves as a copy.\n",
            "\n",
            "For example, when doing 'df[col].method(value, inplace=True)', try using 'df.method({col: value}, inplace=True)' or df[col] = df[col].method(value) instead, to perform the operation inplace on the original object.\n",
            "\n",
            "\n",
            "  df[\"age\"].fillna(df[\"age\"].median(), inplace=True)\n"
          ]
        },
        {
          "output_type": "execute_result",
          "data": {
            "text/plain": [
              "(0.972972972972973, 0.9594594594594594)"
            ]
          },
          "metadata": {},
          "execution_count": 10
        }
      ]
    },
    {
      "cell_type": "code",
      "source": [
        "Q1 = X.quantile(0.25)\n",
        "Q3 = X.quantile(0.75)\n",
        "IQR = Q3 - Q1\n",
        "outlier_mask = ((X < (Q1 - 1.5 * IQR)) | (X > (Q3 + 1.5 * IQR))).any(axis=1)\n",
        "X_clean = X[~outlier_mask]\n",
        "y_clean = y[~outlier_mask]\n",
        "X_train_clean, X_test_clean, y_train_clean, y_test_clean = train_test_split(\n",
        "    X_clean, y_clean, test_size=0.2, random_state=42\n",
        ")\n",
        "svm_model.fit(X_train_clean, y_train_clean)\n",
        "svm_preds_clean = svm_model.predict(X_test_clean)\n",
        "svm_acc_clean = accuracy_score(y_test_clean, svm_preds_clean)\n",
        "\n",
        "rf_model.fit(X_train_clean, y_train_clean)\n",
        "rf_preds_clean = rf_model.predict(X_test_clean)\n",
        "rf_acc_clean = accuracy_score(y_test_clean, rf_preds_clean)\n",
        "\n",
        "svm_acc_clean, rf_acc_clean\n"
      ],
      "metadata": {
        "colab": {
          "base_uri": "https://localhost:8080/"
        },
        "id": "3n0_9uiW9jiA",
        "outputId": "afb3cb63-d36d-482f-c4d1-c69b8fdab3f5"
      },
      "execution_count": 11,
      "outputs": [
        {
          "output_type": "execute_result",
          "data": {
            "text/plain": [
              "(1.0, 1.0)"
            ]
          },
          "metadata": {},
          "execution_count": 11
        }
      ]
    },
    {
      "cell_type": "code",
      "source": [
        "X_train_clean, X_test_clean, y_train_clean, y_test_clean = train_test_split(\n",
        "    X_clean, y_clean, test_size=0.2, random_state=42, stratify=None\n",
        ")\n",
        "svm_model.fit(X_train_clean, y_train_clean)\n",
        "svm_preds_clean = svm_model.predict(X_test_clean)\n",
        "svm_acc_clean = accuracy_score(y_test_clean, svm_preds_clean)\n",
        "\n",
        "rf_model.fit(X_train_clean, y_train_clean)\n",
        "rf_preds_clean = rf_model.predict(X_test_clean)\n",
        "rf_acc_clean = accuracy_score(y_test_clean, rf_preds_clean)\n",
        "\n",
        "svm_acc_clean, rf_acc_clean\n"
      ],
      "metadata": {
        "colab": {
          "base_uri": "https://localhost:8080/"
        },
        "id": "P4AuWrXs968k",
        "outputId": "902fa8cb-f8eb-4783-a0d0-3306fe66d89b"
      },
      "execution_count": 12,
      "outputs": [
        {
          "output_type": "execute_result",
          "data": {
            "text/plain": [
              "(1.0, 1.0)"
            ]
          },
          "metadata": {},
          "execution_count": 12
        }
      ]
    },
    {
      "cell_type": "code",
      "source": [
        "from sklearn.model_selection import train_test_split\n",
        "from sklearn.svm import SVC\n",
        "from sklearn.ensemble import RandomForestClassifier\n",
        "from sklearn.metrics import accuracy_score\n",
        "X_train_clean, X_test_clean, y_train_clean, y_test_clean = train_test_split(\n",
        "    X_clean, y_clean, test_size=0.2, random_state=42, stratify=None\n",
        ")\n",
        "svm_model.fit(X_train_clean, y_train_clean)\n",
        "svm_preds_clean = svm_model.predict(X_test_clean)\n",
        "svm_acc_clean = accuracy_score(y_test_clean, svm_preds_clean)\n",
        "\n",
        "rf_model.fit(X_train_clean, y_train_clean)\n",
        "rf_preds_clean = rf_model.predict(X_test_clean)\n",
        "rf_acc_clean = accuracy_score(y_test_clean, rf_preds_clean)\n",
        "\n",
        "print(\"SVM Accuracy after removing outliers:\", svm_acc_clean)\n",
        "print(\"RF Accuracy after removing outliers:\", rf_acc_clean)\n"
      ],
      "metadata": {
        "colab": {
          "base_uri": "https://localhost:8080/"
        },
        "id": "GNpW6GH_99B9",
        "outputId": "16c2f575-4f55-4147-eda4-5c69e83aede4"
      },
      "execution_count": 13,
      "outputs": [
        {
          "output_type": "stream",
          "name": "stdout",
          "text": [
            "SVM Accuracy after removing outliers: 1.0\n",
            "RF Accuracy after removing outliers: 1.0\n"
          ]
        }
      ]
    }
  ]
}