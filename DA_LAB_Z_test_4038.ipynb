{
  "nbformat": 4,
  "nbformat_minor": 0,
  "metadata": {
    "colab": {
      "provenance": []
    },
    "kernelspec": {
      "name": "python3",
      "display_name": "Python 3"
    },
    "language_info": {
      "name": "python"
    }
  },
  "cells": [
    {
      "source": [
        "import pandas as pd\n",
        "import numpy as np\n",
        "from sklearn.model_selection import train_test_split\n",
        "from sklearn.preprocessing import StandardScaler\n",
        "from sklearn.linear_model import LogisticRegression\n",
        "from sklearn.tree import DecisionTreeClassifier\n",
        "from sklearn.ensemble import RandomForestClassifier, GradientBoostingClassifier\n",
        "from sklearn.svm import SVC\n",
        "from sklearn.neighbors import KNeighborsClassifier\n",
        "from sklearn.metrics import accuracy_score, precision_score, recall_score, confusion_matrix\n",
        "from statsmodels.stats.weightstats import ztest as ztest\n",
        "\n",
        "\n",
        "df = pd.read_csv(\"/content/diabetes_data_upload.csv\")\n",
        "print(df.columns)\n",
        "\n",
        "X = df.drop(columns=['class'])\n",
        "y = df['class']\n",
        "\n",
        "X = pd.get_dummies(X, drop_first=True)\n",
        "\n",
        "X_train, X_test, y_train, y_test = train_test_split(X, y, test_size=0.2, random_state=42)\n",
        "\n",
        "scaler = StandardScaler()\n",
        "X_train = scaler.fit_transform(X_train)\n",
        "X_test = scaler.transform(X_test)\n",
        "\n",
        "models = {\n",
        "    \"Logistic Regression\": LogisticRegression(),\n",
        "    \"Decision Tree\": DecisionTreeClassifier(),\n",
        "    \"Random Forest\": RandomForestClassifier(),\n",
        "    \"Gradient Boosting\": GradientBoostingClassifier(),\n",
        "    \"SVM\": SVC(probability=True),\n",
        "    \"KNN\": KNeighborsClassifier()\n",
        "}\n",
        "results = {}\n",
        "for name, model in models.items():\n",
        "    model.fit(X_train, y_train)\n",
        "    y_pred = model.predict(X_test)\n",
        "\n",
        "    acc = accuracy_score(y_test, y_pred)\n",
        "    prec = precision_score(y_test, y_pred, pos_label='Positive')\n",
        "    rec = recall_score(y_test, y_pred, pos_label='Positive')\n",
        "    tn, fp, fn, tp = confusion_matrix(y_test, y_pred).ravel()\n",
        "\n",
        "    results[name] = {\n",
        "        \"Accuracy\": acc,\n",
        "        \"Precision\": prec,\n",
        "        \"Recall\": rec,\n",
        "        \"False Positive Rate (Type I Error)\": fp / (fp + tn),\n",
        "        \"False Negative Rate (Type II Error)\": fn / (fn + tp)\n",
        "    }\n",
        "\n",
        "results_df = pd.DataFrame(results).T\n",
        "print(results_df)\n",
        "\n",
        "test_indices = y_test.index\n",
        "y_pred_aligned = pd.Series(y_pred, index=y_test.index)\n",
        "correct_idx = y_test[y_test == y_pred_aligned].index\n",
        "incorrect_idx = y_test[y_test != y_pred_aligned].index\n",
        "\n",
        "z_stat, p_value = ztest(df.loc[correct_idx, 'Age'], df.loc[incorrect_idx, 'Age'])\n",
        "print(f\"Z-Test between correctly and misclassified cases: Z={z_stat}, p={p_value}\")"
      ],
      "cell_type": "code",
      "metadata": {
        "colab": {
          "base_uri": "https://localhost:8080/"
        },
        "id": "_oSSzrrtf_38",
        "outputId": "847833a3-eb37-4482-bd6f-c006c8fc6ff6"
      },
      "execution_count": 12,
      "outputs": [
        {
          "output_type": "stream",
          "name": "stdout",
          "text": [
            "Index(['Age', 'Gender', 'Polyuria', 'Polydipsia', 'sudden weight loss',\n",
            "       'weakness', 'Polyphagia', 'Genital thrush', 'visual blurring',\n",
            "       'Itching', 'Irritability', 'delayed healing', 'partial paresis',\n",
            "       'muscle stiffness', 'Alopecia', 'Obesity', 'class'],\n",
            "      dtype='object')\n",
            "                     Accuracy  Precision    Recall  \\\n",
            "Logistic Regression  0.923077   0.931507  0.957746   \n",
            "Decision Tree        0.980769   1.000000  0.971831   \n",
            "Random Forest        0.980769   1.000000  0.971831   \n",
            "Gradient Boosting    0.971154   1.000000  0.957746   \n",
            "SVM                  0.990385   0.986111  1.000000   \n",
            "KNN                  0.894231   0.954545  0.887324   \n",
            "\n",
            "                     False Positive Rate (Type I Error)  \\\n",
            "Logistic Regression                            0.151515   \n",
            "Decision Tree                                  0.000000   \n",
            "Random Forest                                  0.000000   \n",
            "Gradient Boosting                              0.000000   \n",
            "SVM                                            0.030303   \n",
            "KNN                                            0.090909   \n",
            "\n",
            "                     False Negative Rate (Type II Error)  \n",
            "Logistic Regression                             0.042254  \n",
            "Decision Tree                                   0.028169  \n",
            "Random Forest                                   0.028169  \n",
            "Gradient Boosting                               0.042254  \n",
            "SVM                                             0.000000  \n",
            "KNN                                             0.112676  \n",
            "Z-Test between correctly and misclassified cases: Z=1.6410032343896033, p=0.10079674379793502\n"
          ]
        }
      ]
    }
  ]
}