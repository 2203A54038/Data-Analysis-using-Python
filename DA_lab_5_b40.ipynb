{
  "nbformat": 4,
  "nbformat_minor": 0,
  "metadata": {
    "colab": {
      "provenance": []
    },
    "kernelspec": {
      "name": "python3",
      "display_name": "Python 3"
    },
    "language_info": {
      "name": "python"
    }
  },
  "cells": [
    {
      "cell_type": "code",
      "execution_count": 1,
      "metadata": {
        "id": "l7uMYfPxFsNP"
      },
      "outputs": [],
      "source": [
        "import pandas as pd\n",
        "from scipy.stats import skew, kurtosis\n",
        "file_path = \"/content/Bank-Customer-Attrition-Insights-Data (3).csv\"  # Update with the correct path\n",
        "df = pd.read_csv(file_path)"
      ]
    },
    {
      "cell_type": "code",
      "source": [
        "numerical_columns = [\"CreditScore\", \"Balance\", \"NumOfProducts\"]"
      ],
      "metadata": {
        "id": "lB82paKsHY4P"
      },
      "execution_count": 2,
      "outputs": []
    },
    {
      "cell_type": "code",
      "source": [
        "summary_stats = pd.DataFrame(index=['skew', 'kurtosis'], columns=numerical_columns)\n",
        "\n",
        "for col in numerical_columns:\n",
        "    summary_stats.loc['skew', col] = skew(df[col])\n",
        "    summary_stats.loc['kurtosis', col] = kurtosis(df[col])\n",
        "\n",
        "print(\"Summary Statistics:\")\n",
        "print(summary_stats)\n"
      ],
      "metadata": {
        "colab": {
          "base_uri": "https://localhost:8080/"
        },
        "id": "hUFhOxxTHkyZ",
        "outputId": "7bdebadd-04fa-4b4a-bf21-a98045dc03c6"
      },
      "execution_count": 6,
      "outputs": [
        {
          "output_type": "stream",
          "name": "stdout",
          "text": [
            "Summary Statistics:\n",
            "         CreditScore   Balance NumOfProducts\n",
            "skew       -0.071596 -0.141088      0.745456\n",
            "kurtosis   -0.426113 -1.489267      0.582089\n"
          ]
        }
      ]
    },
    {
      "cell_type": "code",
      "source": [
        "categorical_columns = [\"Gender\", \"Geography\", \"Age\"]\n",
        "for col in categorical_columns:\n",
        "    print(f\"\\nDistribution of {col}:\")\n",
        "    print(df[col].value_counts())"
      ],
      "metadata": {
        "colab": {
          "base_uri": "https://localhost:8080/"
        },
        "id": "8wzPl8b3HqIQ",
        "outputId": "23a3c6fb-5c08-4cd2-a789-0ca3efc5ed30"
      },
      "execution_count": 7,
      "outputs": [
        {
          "output_type": "stream",
          "name": "stdout",
          "text": [
            "\n",
            "Distribution of Gender:\n",
            "Gender\n",
            "Male      5457\n",
            "Female    4543\n",
            "Name: count, dtype: int64\n",
            "\n",
            "Distribution of Geography:\n",
            "Geography\n",
            "France     5014\n",
            "Germany    2509\n",
            "Spain      2477\n",
            "Name: count, dtype: int64\n",
            "\n",
            "Distribution of Age:\n",
            "Age\n",
            "37    478\n",
            "38    477\n",
            "35    474\n",
            "36    456\n",
            "34    447\n",
            "     ... \n",
            "92      2\n",
            "82      1\n",
            "88      1\n",
            "85      1\n",
            "83      1\n",
            "Name: count, Length: 70, dtype: int64\n"
          ]
        }
      ]
    },
    {
      "cell_type": "code",
      "source": [
        "active_stats = df[df[\"IsActiveMember\"] == 1][\"NumOfProducts\"].agg([\"min\", \"max\", \"mean\"])\n",
        "inactive_stats = df[df[\"IsActiveMember\"] == 0][\"NumOfProducts\"].agg([\"min\", \"max\", \"mean\"])\n",
        "\n",
        "print(\"\\nTransaction Counts for Active Customers:\")\n",
        "print(active_stats)\n",
        "\n",
        "print(\"\\nTransaction Counts for Inactive Customers:\")\n",
        "print(inactive_stats)"
      ],
      "metadata": {
        "colab": {
          "base_uri": "https://localhost:8080/"
        },
        "id": "5CTeFdZNH2yB",
        "outputId": "78f3bd52-5bc9-4fd9-96a0-e9e2d6a2b7ae"
      },
      "execution_count": 8,
      "outputs": [
        {
          "output_type": "stream",
          "name": "stdout",
          "text": [
            "\n",
            "Transaction Counts for Active Customers:\n",
            "min     1.000000\n",
            "max     4.000000\n",
            "mean    1.535624\n",
            "Name: NumOfProducts, dtype: float64\n",
            "\n",
            "Transaction Counts for Inactive Customers:\n",
            "min     1.000000\n",
            "max     4.000000\n",
            "mean    1.524438\n",
            "Name: NumOfProducts, dtype: float64\n"
          ]
        }
      ]
    },
    {
      "cell_type": "code",
      "source": [
        "correlations = df[[\"CreditScore\", \"Balance\", \"NumOfProducts\"]].corr()\n",
        "print(\"\\nCorrelations between Credit Score, Balance, and Transaction Count:\")\n",
        "print(correlations)\n"
      ],
      "metadata": {
        "colab": {
          "base_uri": "https://localhost:8080/"
        },
        "id": "Da9r4XWCH-of",
        "outputId": "952a6e8f-5c59-4d4f-c797-4a6a35792dd5"
      },
      "execution_count": 9,
      "outputs": [
        {
          "output_type": "stream",
          "name": "stdout",
          "text": [
            "\n",
            "Correlations between Credit Score, Balance, and Transaction Count:\n",
            "               CreditScore   Balance  NumOfProducts\n",
            "CreditScore       1.000000  0.006268       0.012238\n",
            "Balance           0.006268  1.000000      -0.304180\n",
            "NumOfProducts     0.012238 -0.304180       1.000000\n"
          ]
        }
      ]
    },
    {
      "cell_type": "code",
      "source": [
        "churned_stats = df[df[\"Exited\"] == 1][[\"Balance\", \"NumOfProducts\"]].mean()\n",
        "retained_stats = df[df[\"Exited\"] == 0][[\"Balance\", \"NumOfProducts\"]].mean()\n",
        "\n",
        "print(\"\\nChurned Customers' Balance and Transaction Activity:\")\n",
        "print(churned_stats)\n",
        "\n",
        "print(\"\\nRetained Customers' Balance and Transaction Activity:\")\n",
        "print(retained_stats)\n"
      ],
      "metadata": {
        "colab": {
          "base_uri": "https://localhost:8080/"
        },
        "id": "ABU-0aRkIC42",
        "outputId": "5ef0fa69-6461-4fe5-b6cf-8656d57fd4f0"
      },
      "execution_count": 10,
      "outputs": [
        {
          "output_type": "stream",
          "name": "stdout",
          "text": [
            "\n",
            "Churned Customers' Balance and Transaction Activity:\n",
            "Balance          91109.476006\n",
            "NumOfProducts        1.475466\n",
            "dtype: float64\n",
            "\n",
            "Retained Customers' Balance and Transaction Activity:\n",
            "Balance          72742.750663\n",
            "NumOfProducts        1.544210\n",
            "dtype: float64\n"
          ]
        }
      ]
    },
    {
      "cell_type": "code",
      "source": [
        "low_credit = df[\"CreditScore\"] < df[\"CreditScore\"].quantile(0.25)\n",
        "high_balance = df[\"Balance\"] > df[\"Balance\"].quantile(0.75)\n",
        "\n",
        "probability = (low_credit & high_balance).mean()\n",
        "print(\"\\nProbability of a customer having both a low credit score and a high balance:\", probability)"
      ],
      "metadata": {
        "colab": {
          "base_uri": "https://localhost:8080/"
        },
        "id": "mk3QcI5jIHxE",
        "outputId": "fd0a223c-e2b8-49f6-e477-de112794077b"
      },
      "execution_count": 11,
      "outputs": [
        {
          "output_type": "stream",
          "name": "stdout",
          "text": [
            "\n",
            "Probability of a customer having both a low credit score and a high balance: 0.0628\n"
          ]
        }
      ]
    }
  ]
}